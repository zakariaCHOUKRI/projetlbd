{
 "cells": [
  {
   "cell_type": "code",
   "execution_count": 1,
   "metadata": {},
   "outputs": [],
   "source": [
    "from abc import ABC\n",
    "\n",
    "class University:\n",
    "    \"\"\"This is the university class\"\"\"\n",
    "\n",
    "    def __init__(self, name: str, address: str, website: str, telephone: str, email: str, date_founded: str, list_of_schools: list):\n",
    "        self.name = name\n",
    "        self.address = address\n",
    "        self.website = website\n",
    "        self.telephone = telephone\n",
    "        self.email = email\n",
    "        self.date_founded = date_founded\n",
    "        self.list_of_schools = list_of_schools\n",
    "\n",
    "    def display(self):\n",
    "        print(\"name:\", self.name,\n",
    "            \"\\naddress:\", self.address,\n",
    "            \"\\nwebsite:\", self.website,\n",
    "            \"\\ntelephone:\", self.telephone,\n",
    "            \"\\nemail:\", self.email,\n",
    "            \"\\ndate_founded:\", self.date_founded,\n",
    "            \"\\nlist_of_schools:\", self.list_of_schools)"
   ]
  },
  {
   "cell_type": "code",
   "execution_count": 2,
   "metadata": {},
   "outputs": [],
   "source": [
    "class School:\n",
    "    \"\"\"This is the school class\"\"\"\n",
    "\n",
    "    def __init__(self, name: str, address: str, website: str, telephone: str, email: str, date_founded: str, list_of_programs: list):\n",
    "        self.name = name\n",
    "        self.address = address\n",
    "        self.website = website\n",
    "        self.telephone = telephone\n",
    "        self.email = email\n",
    "        self.date_founded = date_founded\n",
    "        self.list_of_programs = list_of_programs\n",
    "\n",
    "    def display(self):\n",
    "        print(\"name:\", self.name,\n",
    "              \"\\naddress:\", self.address,\n",
    "              \"\\nwebsite:\", self.website,\n",
    "              \"\\ntelephone:\", self.telephone,\n",
    "              \"\\nemail:\", self.email,\n",
    "              \"\\ndate_founded:\", self.date_founded,\n",
    "              \"\\nlist_of_programs:\", self.list_of_programs)"
   ]
  },
  {
   "cell_type": "code",
   "execution_count": 3,
   "metadata": {},
   "outputs": [],
   "source": [
    "class Program:\n",
    "    \"\"\"This is the school class\"\"\"\n",
    "\n",
    "    def __init__(self, name: str, address: str, website: str, telephone: str, email: str, date_founded: str, list_of_promos: list):\n",
    "        self.name = name\n",
    "        self.address = address\n",
    "        self.website = website\n",
    "        self.telephone = telephone\n",
    "        self.email = email\n",
    "        self.date_founded = date_founded\n",
    "        self.list_of_promos = list_of_promos\n",
    "\n",
    "    def display(self):\n",
    "        print(\"name:\", self.name,\n",
    "              \"\\naddress:\", self.address,\n",
    "              \"\\nwebsite:\", self.website,\n",
    "              \"\\ntelephone:\", self.telephone,\n",
    "              \"\\nemail:\", self.email,\n",
    "              \"\\ndate_founded:\", self.date_founded,\n",
    "              \"\\nlist_of_promos:\", self.list_of_promos)"
   ]
  },
  {
   "cell_type": "code",
   "execution_count": 4,
   "metadata": {},
   "outputs": [],
   "source": [
    "class Promo:\n",
    "    \"\"\"This is the Promo class\"\"\"\n",
    "\n",
    "    def __init__(self, students: list, year: str):\n",
    "        self.year = year\n",
    "        self.students = students\n",
    "    \n",
    "    def display(self):\n",
    "        pass"
   ]
  },
  {
   "cell_type": "code",
   "execution_count": 5,
   "metadata": {},
   "outputs": [],
   "source": [
    "class Course:\n",
    "    \"\"\"This is the course class\"\"\"\n",
    "\n",
    "    def __init__(self, name: str, students_list: list):\n",
    "        self.name = name\n",
    "        self.students_list = students_list\n",
    "        self.elements = [\"DS\", \"TP\", \"TD\", \"Project\"]\n",
    "        self.coeffs = {i:0 for i in self.elements}\n",
    "        self.programs_list = []\n",
    "        self.course_grades = {i: {\"TP\": None, \"DS\": None, \"Project\": None, \"TD\": None, \"final\": None} for i in self.students_list}\n",
    "        self.final_grades = {i: None for i in self.students_list}\n",
    "    \n",
    "    def add_program(self, program):\n",
    "        self.programs_list.append(program)\n",
    "    \n",
    "    def get_programs(self):\n",
    "        return programs_list\n",
    "\n",
    "    def set_coeff(self):\n",
    "        for i in self.elements:\n",
    "            self.coeffs[i] = float(input(f\"{i} coeff: \"))\n",
    "\n",
    "    def get_coeff(self):\n",
    "        return self.coeffs\n",
    "\n",
    "    def set_grades(self):\n",
    "        for student in self.course_grades:\n",
    "            for element in self.elements:\n",
    "                if self.coeffs[element] != 0:\n",
    "                    self.course_grades[student][element] = float(input(f\"{student.name} {element}: \"))\n",
    "                else:\n",
    "                    self.course_grades[student][element] = 0\n",
    "\n",
    "    def set_final_grades(self):\n",
    "        for student in self.course_grades:\n",
    "            grade = 0\n",
    "            for element in self.elements:\n",
    "                grade += self.course_grades[student][element] * self.coeffs[element]\n",
    "            self.final_grades[student] = grade\n",
    "\n",
    "    def get_grades(self):\n",
    "        return {i.name: self.course_grades[i] for i in self.course_grades}\n",
    "\n",
    "    def get_final_grades(self):\n",
    "        return {i.name: self.final_grades[i] for i in self.final_grades}"
   ]
  },
  {
   "cell_type": "code",
   "execution_count": 6,
   "metadata": {},
   "outputs": [],
   "source": [
    "class Person(ABC):\n",
    "    \"\"\"This is the person class\"\"\"\n",
    "\n",
    "    def __init__(self, name: str, ID: int, email: str):\n",
    "        self.name = name\n",
    "        self.ID = ID\n",
    "        self.email = email\n",
    "\n",
    "    def display(self):\n",
    "        pass"
   ]
  },
  {
   "cell_type": "code",
   "execution_count": 7,
   "metadata": {},
   "outputs": [],
   "source": [
    "class Student(Person):\n",
    "    \"\"\"This is the student class\"\"\"\n",
    "\n",
    "    def __init__(self, name: str, ID: int, email: str):\n",
    "        super().__init__(name, ID, email)\n",
    "        self.enrolled_courses = []\n",
    "        self.program = None\n",
    "        self.final_grade = 0\n",
    "        self.final_grades = {}\n",
    "        self.course_grades = {i: None for i in self.enrolled_courses}\n",
    "\n",
    "    def get_enrolled_courses(self):\n",
    "        return self.enrolled_courses\n",
    "    \n",
    "    def get_course_grades(self, course):\n",
    "        return course.course_grades[self]\n",
    "\n",
    "    def get_final_grades(self):\n",
    "        for course in self.enrolled_courses:\n",
    "            self.final_grades[course] = course.final_grades[self]\n",
    "        return self.final_grades\n",
    "\n",
    "    def add_course(self, course):\n",
    "        self.enrolled_courses.append(course)\n",
    "        \n",
    "        self.course_grades.update({course: None})\n",
    "\n",
    "    def get_final_grade(self):\n",
    "        sum = 0\n",
    "        for i in self.final_grades.values():\n",
    "            sum += i\n",
    "        sum /= len(self.final_grades.keys())\n",
    "        self.final_grade = sum\n",
    "        return self.final_grade\n",
    "\n",
    "    def set_program(self, program):\n",
    "        self.program = program\n",
    "\n",
    "    def get_program(self):\n",
    "        return self.program"
   ]
  },
  {
   "cell_type": "code",
   "execution_count": 8,
   "metadata": {},
   "outputs": [],
   "source": [
    "class Professor(Person):\n",
    "    \"\"\"This is the professor class\"\"\"\n",
    "\n",
    "    def __init__(self, name: str, ID: int, email: str):\n",
    "        super().__init__(name, ID, email)\n",
    "        self.programs = []\n",
    "        self.course = None\n",
    "\n",
    "    def add_program(self, prog):\n",
    "        self.programs.append(prog)\n",
    "\n",
    "    def get_programs(self):\n",
    "        return self.programs\n",
    "\n",
    "    def set_course(self, course):\n",
    "        self.course = course\n",
    "\n",
    "    def get_course(self):\n",
    "        return self.course"
   ]
  },
  {
   "cell_type": "code",
   "execution_count": 9,
   "metadata": {},
   "outputs": [],
   "source": [
    "basma_arnaoui = Student(\"basma arnaoui\", 97, \"basma.arnaoui@um6p.ma\")\n",
    "imane_fjer = Student(\"imane fjer\", 98, \"imane.fjer@um6p.ma\")\n",
    "tawab_ramadane = Student(\"tawab ramadane\", 99, \"tawab.ramadane@um6p.ma\")\n",
    "yassir_fri = Student(\"yassir fri\", 100, \"yassir.fri@um6p.ma\")\n",
    "zakaria_choukri = Student(\"zakaria choukri\", 101, \"zakaria.choukri@um6p.ma\")\n",
    "\n",
    "etudiants_cs = [basma_arnaoui, imane_fjer, tawab_ramadane, yassir_fri, zakaria_choukri]\n",
    "\n",
    "\n",
    "omar_lkadi = Student(\"omar lkadi\", 2001, \"omar_lkadi@um6p.ma\")\n",
    "mouaad_lwali = Student(\"mouaad lwali\", 2002, \"mouaad.lwali@um6p.ma\")\n",
    "leila_moussaoui = Student(\"leila moussaoui\", 2003, \"leila.moussaoui@um6p.ma\")\n",
    "marwa_rafik = Student(\"marwa rafik\", 2004, \"marwa.rafik@um6p.ma\")\n",
    "sanae_rochdi = Student(\"sanae rochdi\", 2005, \"sanae.rochdi@um6p.ma\")\n",
    "\n",
    "etudiants_sapd = [omar_lkadi, mouaad_lwali, leila_moussaoui, marwa_rafik, sanae_rochdi]"
   ]
  },
  {
   "cell_type": "code",
   "execution_count": 10,
   "metadata": {},
   "outputs": [],
   "source": [
    "prof_algorithmique = Professor(\"prof algorithmique\", 12, \"prof.algorithmique@um6p.com\")\n",
    "prof_programmation = Professor(\"prof_programmation\", 13, \"prof.programmation@um6p.com\")\n",
    "\n",
    "profs_cs = [prof_algorithmique, prof_programmation]\n",
    "\n",
    "prof_dessin = Professor(\"prof dessin\", 22, \"prof.dessin@um6p.com\")\n",
    "prof_atelier = Professor(\"prof atelier\", 23, \"prof.atelier@um6p.com\")\n",
    "\n",
    "profs_sapd = [prof_dessin, prof_atelier]"
   ]
  },
  {
   "cell_type": "code",
   "execution_count": 11,
   "metadata": {},
   "outputs": [],
   "source": [
    "cs_2026 = Promo(etudiants_cs, \"2026\")\n",
    "\n",
    "sapd_2027 = Promo(etudiants_sapd, \"2027\")"
   ]
  },
  {
   "cell_type": "code",
   "execution_count": 12,
   "metadata": {},
   "outputs": [],
   "source": [
    "algorithmique = Course(\"algorithmique\", etudiants_cs)\n",
    "prof_algorithmique.set_course(algorithmique)\n",
    "\n",
    "programmation = Course(\"programmation\", etudiants_cs)\n",
    "prof_programmation.set_course(programmation)\n",
    "\n",
    "courses_cs = [algorithmique, programmation]\n",
    "\n",
    "\n",
    "dessin = Course(\"dessin\", etudiants_sapd)\n",
    "prof_dessin.set_course(dessin)\n",
    "\n",
    "atelier = Course(\"atelier\", etudiants_sapd)\n",
    "prof_atelier.set_course(atelier)\n",
    "\n",
    "courses_sapd = [dessin, atelier]"
   ]
  },
  {
   "cell_type": "code",
   "execution_count": 13,
   "metadata": {},
   "outputs": [],
   "source": [
    "genie_informatique = Program(\"genie informatique\", \"Benguerir\", \"um6p-cs.ma\", \"0500112233\", \"um6p-cs@um6p.ma\", \"2021\", [cs_2026])\n",
    "\n",
    "algorithmique.add_program(genie_informatique)\n",
    "programmation.add_program(genie_informatique)\n",
    "\n",
    "architecture = Program(\"architecture\", \"Benguerir\", \"sapd.ma\", \"0544667788\", \"sapd@um6p.ma\", \"2019\", [sapd_2027])\n",
    "atelier.add_program(architecture)\n",
    "dessin.add_program(architecture)"
   ]
  },
  {
   "cell_type": "code",
   "execution_count": 14,
   "metadata": {},
   "outputs": [],
   "source": [
    "um6p_cs = School(\"um6p_cs\", \"benguerir\", \"um6p-cs.ma\", \"0500112233\", \"um6p-cs@um6p.ma\", \"2018\", [genie_informatique])\n",
    "\n",
    "sapd = School(\"sapd\", \"benguerir\", \"sapd.ma\", \"0544667788\", \"sapd@um6p.ma\", \"2019\", [architecture])"
   ]
  },
  {
   "cell_type": "code",
   "execution_count": 15,
   "metadata": {},
   "outputs": [],
   "source": [
    "um6p = University(\"um6p\", \"benguerir\", \"um6p.ma\", \"0512341234\", \"um6p@um6p.ma\", \"2013\", [um6p_cs, sapd])"
   ]
  },
  {
   "cell_type": "code",
   "execution_count": 16,
   "metadata": {},
   "outputs": [],
   "source": [
    "for etudiant in etudiants_cs:\n",
    "    for course in courses_cs:\n",
    "        etudiant.add_course(course)\n",
    "\n",
    "for etudiant in etudiants_sapd:\n",
    "    for course in courses_sapd:\n",
    "        etudiant.add_course(course)"
   ]
  },
  {
   "cell_type": "code",
   "execution_count": 17,
   "metadata": {},
   "outputs": [],
   "source": [
    "for etudiant in etudiants_cs:\n",
    "    etudiant.set_program(genie_informatique)\n",
    "\n",
    "for etudiant in etudiants_sapd:\n",
    "    etudiant.set_program(architecture)"
   ]
  },
  {
   "cell_type": "code",
   "execution_count": 18,
   "metadata": {},
   "outputs": [],
   "source": [
    "for prof in profs_cs:\n",
    "    prof.add_program(genie_informatique)\n",
    "\n",
    "for prof in profs_sapd:\n",
    "    prof.add_program(architecture)"
   ]
  },
  {
   "cell_type": "code",
   "execution_count": 19,
   "metadata": {},
   "outputs": [
    {
     "data": {
      "text/plain": [
       "{'DS': 0.5, 'TP': 0.3, 'TD': 0.1, 'Project': 0.1}"
      ]
     },
     "execution_count": 19,
     "metadata": {},
     "output_type": "execute_result"
    }
   ],
   "source": [
    "algorithmique.set_coeff()\n",
    "algorithmique.get_coeff()"
   ]
  },
  {
   "cell_type": "code",
   "execution_count": 20,
   "metadata": {},
   "outputs": [
    {
     "data": {
      "text/plain": [
       "{'DS': 0.5, 'TP': 0.3, 'TD': 0.1, 'Project': 0.1}"
      ]
     },
     "execution_count": 20,
     "metadata": {},
     "output_type": "execute_result"
    }
   ],
   "source": [
    "programmation.set_coeff()\n",
    "programmation.get_coeff()"
   ]
  },
  {
   "cell_type": "code",
   "execution_count": 21,
   "metadata": {},
   "outputs": [
    {
     "data": {
      "text/plain": [
       "{'DS': 0.5, 'TP': 0.3, 'TD': 0.1, 'Project': 0.1}"
      ]
     },
     "execution_count": 21,
     "metadata": {},
     "output_type": "execute_result"
    }
   ],
   "source": [
    "atelier.set_coeff()\n",
    "atelier.get_coeff()"
   ]
  },
  {
   "cell_type": "code",
   "execution_count": 22,
   "metadata": {},
   "outputs": [
    {
     "data": {
      "text/plain": [
       "{'DS': 0.5, 'TP': 0.3, 'TD': 0.1, 'Project': 0.1}"
      ]
     },
     "execution_count": 22,
     "metadata": {},
     "output_type": "execute_result"
    }
   ],
   "source": [
    "dessin.set_coeff()\n",
    "dessin.get_coeff()"
   ]
  },
  {
   "cell_type": "code",
   "execution_count": 23,
   "metadata": {},
   "outputs": [],
   "source": [
    "algorithmique.set_grades()"
   ]
  },
  {
   "cell_type": "code",
   "execution_count": 24,
   "metadata": {},
   "outputs": [],
   "source": [
    "algorithmique.set_final_grades()"
   ]
  },
  {
   "cell_type": "code",
   "execution_count": 25,
   "metadata": {},
   "outputs": [
    {
     "data": {
      "text/plain": [
       "{'basma arnaoui': {'TP': 13.0,\n",
       "  'DS': 12.0,\n",
       "  'Project': 15.0,\n",
       "  'TD': 14.0,\n",
       "  'final': None},\n",
       " 'imane fjer': {'TP': 17.0,\n",
       "  'DS': 16.0,\n",
       "  'Project': 19.0,\n",
       "  'TD': 18.0,\n",
       "  'final': None},\n",
       " 'tawab ramadane': {'TP': 12.0,\n",
       "  'DS': 13.0,\n",
       "  'Project': 16.0,\n",
       "  'TD': 15.0,\n",
       "  'final': None},\n",
       " 'yassir fri': {'TP': 12.0,\n",
       "  'DS': 14.0,\n",
       "  'Project': 13.0,\n",
       "  'TD': 11.0,\n",
       "  'final': None},\n",
       " 'zakaria choukri': {'TP': 14.0,\n",
       "  'DS': 12.0,\n",
       "  'Project': 16.0,\n",
       "  'TD': 17.0,\n",
       "  'final': None}}"
      ]
     },
     "execution_count": 25,
     "metadata": {},
     "output_type": "execute_result"
    }
   ],
   "source": [
    "algorithmique.get_grades()"
   ]
  },
  {
   "cell_type": "code",
   "execution_count": 26,
   "metadata": {},
   "outputs": [],
   "source": [
    "algorithmique.set_final_grades()"
   ]
  },
  {
   "cell_type": "code",
   "execution_count": 27,
   "metadata": {},
   "outputs": [
    {
     "data": {
      "text/plain": [
       "{'basma arnaoui': 12.8,\n",
       " 'imane fjer': 16.8,\n",
       " 'tawab ramadane': 13.2,\n",
       " 'yassir fri': 13.0,\n",
       " 'zakaria choukri': 13.499999999999998}"
      ]
     },
     "execution_count": 27,
     "metadata": {},
     "output_type": "execute_result"
    }
   ],
   "source": [
    "algorithmique.get_final_grades()"
   ]
  }
 ],
 "metadata": {
  "interpreter": {
   "hash": "b89b5cfaba6639976dc87ff2fec6d58faec662063367e2c229c520fe71072417"
  },
  "kernelspec": {
   "display_name": "Python 3.10.0 64-bit",
   "language": "python",
   "name": "python3"
  },
  "language_info": {
   "codemirror_mode": {
    "name": "ipython",
    "version": 3
   },
   "file_extension": ".py",
   "mimetype": "text/x-python",
   "name": "python",
   "nbconvert_exporter": "python",
   "pygments_lexer": "ipython3",
   "version": "3.9.6"
  },
  "orig_nbformat": 4
 },
 "nbformat": 4,
 "nbformat_minor": 2
}
