{
 "cells": [
  {
   "cell_type": "code",
   "execution_count": 1,
   "metadata": {},
   "outputs": [],
   "source": [
    "from abc import ABC\n",
    "\n",
    "class University:\n",
    "    \"\"\"This is the university class\"\"\"\n",
    "\n",
    "    def __init__(self, name: str, address: str, website: str, telephone: str, email: str, date_founded: str, list_of_schools: list):\n",
    "        self.name = name\n",
    "        self.address = address\n",
    "        self.website = website\n",
    "        self.telephone = telephone\n",
    "        self.email = email\n",
    "        self.date_founded = date_founded\n",
    "        self.list_of_schools = list_of_schools\n",
    "\n",
    "    def display(self):\n",
    "        print(\"name:\", self.name,\n",
    "            \"\\naddress:\", self.address,\n",
    "            \"\\nwebsite:\", self.website,\n",
    "            \"\\ntelephone:\", self.telephone,\n",
    "            \"\\nemail:\", self.email,\n",
    "            \"\\ndate_founded:\", self.date_founded,\n",
    "            \"\\nlist_of_schools:\", self.list_of_schools)"
   ]
  },
  {
   "cell_type": "code",
   "execution_count": 2,
   "metadata": {},
   "outputs": [],
   "source": [
    "class School:\n",
    "    \"\"\"This is the school class\"\"\"\n",
    "\n",
    "    def __init__(self, name: str, address: str, website: str, telephone: str, email: str, date_founded: str, list_of_programs: list):\n",
    "        self.name = name\n",
    "        self.address = address\n",
    "        self.website = website\n",
    "        self.telephone = telephone\n",
    "        self.email = email\n",
    "        self.date_founded = date_founded\n",
    "        self.list_of_programs = list_of_programs\n",
    "\n",
    "    def display(self):\n",
    "        print(\"name:\", self.name,\n",
    "              \"\\naddress:\", self.address,\n",
    "              \"\\nwebsite:\", self.website,\n",
    "              \"\\ntelephone:\", self.telephone,\n",
    "              \"\\nemail:\", self.email,\n",
    "              \"\\ndate_founded:\", self.date_founded,\n",
    "              \"\\nlist_of_programs:\", self.list_of_programs)"
   ]
  },
  {
   "cell_type": "code",
   "execution_count": 3,
   "metadata": {},
   "outputs": [],
   "source": [
    "class Program:\n",
    "    \"\"\"This is the school class\"\"\"\n",
    "\n",
    "    def __init__(self, name: str, address: str, website: str, telephone: str, email: str, date_founded: str, list_of_promos: list):\n",
    "        self.name = name\n",
    "        self.address = address\n",
    "        self.website = website\n",
    "        self.telephone = telephone\n",
    "        self.email = email\n",
    "        self.date_founded = date_founded\n",
    "        self.list_of_promos = list_of_promos\n",
    "\n",
    "    def display(self):\n",
    "        print(\"name:\", self.name,\n",
    "              \"\\naddress:\", self.address,\n",
    "              \"\\nwebsite:\", self.website,\n",
    "              \"\\ntelephone:\", self.telephone,\n",
    "              \"\\nemail:\", self.email,\n",
    "              \"\\ndate_founded:\", self.date_founded,\n",
    "              \"\\nlist_of_promos:\", self.list_of_promos)"
   ]
  },
  {
   "cell_type": "code",
   "execution_count": 4,
   "metadata": {},
   "outputs": [],
   "source": [
    "class Promo:\n",
    "    \"\"\"This is the Promo class\"\"\"\n",
    "\n",
    "    def __init__(self, students: list, year: str):\n",
    "        self.year = year\n",
    "        self.students = students\n",
    "    \n",
    "    def display(self):\n",
    "        pass"
   ]
  },
  {
   "cell_type": "code",
   "execution_count": 5,
   "metadata": {},
   "outputs": [],
   "source": [
    "class Course:\n",
    "    \"\"\"This is the course class\"\"\"\n",
    "\n",
    "    def __init__(self, name: str, students_list: list):\n",
    "        self.name = name\n",
    "        self.students_list = students_list\n",
    "        self.elements = [\"DS\", \"TP\", \"TD\", \"Project\"]\n",
    "        self.coeffs = {i:0 for i in self.elements}\n",
    "        self.programs_list = []\n",
    "        self.course_grades = {i: {\"TP\": None, \"DS\": None, \"Project\": None, \"TD\": None, \"final\": None} for i in self.students_list}\n",
    "        self.final_grades = {i.name: None for i in self.students_list}\n",
    "\n",
    "    def set_coeff(self):\n",
    "        for i in self.elements:\n",
    "            self.coeffs[i] = float(input(f\"{i} coeff: \"))\n",
    "\n",
    "    def set_grades(self):\n",
    "        for student in self.course_grades:\n",
    "            for element in self.elements:\n",
    "                if self.coeffs[element] != 0:\n",
    "                    self.course_grades[student][element] = float(input(f\"{student.name} {element}: \"))\n",
    "                else:\n",
    "                    self.course_grades[student][element] = 0\n",
    "\n",
    "    def set_final_grades(self):\n",
    "        for student in self.course_grades:\n",
    "            grade = 0\n",
    "            for element in self.elements:\n",
    "                grade += self.course_grades[student][element] * self.coeffs[element]\n",
    "            self.final_grades[student.name] = grade\n",
    "\n",
    "    def display_grades(self):\n",
    "        return self.final_grades"
   ]
  },
  {
   "cell_type": "code",
   "execution_count": 6,
   "metadata": {},
   "outputs": [],
   "source": [
    "class Person(ABC):\n",
    "    \"\"\"This is the person class\"\"\"\n",
    "\n",
    "    def __init__(self, name: str, ID: int, email: str):\n",
    "        self.name = name\n",
    "        self.ID = ID\n",
    "        self.email = email\n",
    "\n",
    "    def display(self):\n",
    "        pass"
   ]
  },
  {
   "cell_type": "code",
   "execution_count": 7,
   "metadata": {},
   "outputs": [],
   "source": [
    "class Student(Person):\n",
    "    \"\"\"This is the student class\"\"\"\n",
    "\n",
    "    def __init__(self, name: str, ID: int, email: str):\n",
    "        super().__init__(name, ID, email)\n",
    "        self.enrolled_courses = []\n",
    "        self.program = None\n",
    "        self.final_grade = 0\n",
    "        self.final_grades = {}\n",
    "\n",
    "    def get_enrolled_courses(self):\n",
    "        return self.enrolled_courses\n",
    "    \n",
    "    def get_course_grades(self, course):\n",
    "        return course.course_grades[self.name]\n",
    "\n",
    "    def get_final_grades(self):\n",
    "        for course in self.enrolled_courses:\n",
    "            self.final_grades[course] = course.final_grades[self.name]\n",
    "        return self.final_grades\n",
    "\n",
    "    def add_course(self, course):\n",
    "        self.enrolled_courses.append(course)\n",
    "\n",
    "    def get_final_grade(self):\n",
    "        sum = 0\n",
    "        for i in self.final_grades.values():\n",
    "            sum += i\n",
    "        sum /= len(self.final_grades.keys())\n",
    "        return sum"
   ]
  },
  {
   "cell_type": "code",
   "execution_count": 8,
   "metadata": {},
   "outputs": [],
   "source": [
    "class Professor(Person):\n",
    "    \"\"\"This is the professor class\"\"\"\n",
    "\n",
    "    def __init__(self, name: str, ID: int, email: str):\n",
    "        super().__init__(name, ID, email)\n",
    "        self.programs = []\n",
    "        self.course = None\n",
    "\n",
    "    def add_program(self, prog):\n",
    "        self.programs.append(prog)\n",
    "\n",
    "    def get_programs(self):\n",
    "        return self.programs"
   ]
  },
  {
   "cell_type": "code",
   "execution_count": 9,
   "metadata": {},
   "outputs": [],
   "source": [
    "fri = Student(\"fri\", 71, \"fri@email.com\")\n",
    "basma = Student(\"basma\", 55, \"basma@email.com\")\n",
    "shadow = Professor(\"shadow\", 11, \"shadow@email.com\")\n",
    "sadi9 = Professor(\"sadi9\", 12, \"sadi9@email.com\")\n",
    "cs2026 = Promo([fri, basma], \"2026\")\n",
    "lbd = Course(\"lbd\", [fri, basma])\n",
    "algebra = Course(\"algebra\", [fri, basma])\n",
    "genie_info = Program(\"ing cs\", \"bngrir\", \"um6p-cs.ma\", \"0811\", \"cs@um6p.ma\", \"2021\", [cs2026])\n",
    "cs = School(\"cs\", \"bngrir\", \"um6p-cs.ma\", \"0811\", \"cs@um6p.ma\", \"2018\", [genie_info])\n",
    "um6p = University(\"um6p\", \"bngrir\", \"um6p.ma\", \"0811\", \"um6p@um6p.ma\", \"2013\", [cs])"
   ]
  },
  {
   "cell_type": "code",
   "execution_count": 10,
   "metadata": {},
   "outputs": [],
   "source": [
    "lbd.set_coeff()"
   ]
  },
  {
   "cell_type": "code",
   "execution_count": 11,
   "metadata": {},
   "outputs": [],
   "source": [
    "lbd.set_grades()"
   ]
  },
  {
   "cell_type": "code",
   "execution_count": 12,
   "metadata": {},
   "outputs": [],
   "source": [
    "lbd.set_final_grades()"
   ]
  },
  {
   "cell_type": "code",
   "execution_count": 13,
   "metadata": {},
   "outputs": [
    {
     "data": {
      "text/plain": [
       "{'fri': 15.999999999999998, 'basma': 12.0}"
      ]
     },
     "execution_count": 13,
     "metadata": {},
     "output_type": "execute_result"
    }
   ],
   "source": [
    "lbd.display_grades()"
   ]
  },
  {
   "cell_type": "code",
   "execution_count": null,
   "metadata": {},
   "outputs": [],
   "source": []
  }
 ],
 "metadata": {
  "interpreter": {
   "hash": "b89b5cfaba6639976dc87ff2fec6d58faec662063367e2c229c520fe71072417"
  },
  "kernelspec": {
   "display_name": "Python 3.10.0 64-bit",
   "language": "python",
   "name": "python3"
  },
  "language_info": {
   "codemirror_mode": {
    "name": "ipython",
    "version": 3
   },
   "file_extension": ".py",
   "mimetype": "text/x-python",
   "name": "python",
   "nbconvert_exporter": "python",
   "pygments_lexer": "ipython3",
   "version": "3.10.0"
  },
  "orig_nbformat": 4
 },
 "nbformat": 4,
 "nbformat_minor": 2
}
